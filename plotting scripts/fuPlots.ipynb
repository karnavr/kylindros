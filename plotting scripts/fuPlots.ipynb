{
 "cells": [
  {
   "cell_type": "code",
   "execution_count": 1,
   "id": "c12f6174",
   "metadata": {},
   "outputs": [
    {
     "name": "stdout",
     "output_type": "stream",
     "text": [
      "Avaliable threads: 32\n"
     ]
    }
   ],
   "source": [
    "include(\"../functions.jl\")\n",
    "println(\"Avaliable threads: \", Threads.nthreads())"
   ]
  },
  {
   "cell_type": "code",
   "execution_count": 2,
   "id": "b004282b",
   "metadata": {},
   "outputs": [
    {
     "data": {
      "text/plain": [
       "plot_cauchy_error"
      ]
     },
     "metadata": {},
     "output_type": "display_data"
    }
   ],
   "source": [
    "include(\"../notebooks/plot_cauchy_error.jl\")"
   ]
  },
  {
   "cell_type": "code",
   "execution_count": 3,
   "id": "f6c88425",
   "metadata": {},
   "outputs": [],
   "source": [
    "solutions, constants, metadata = readSolution(\"/home/karnav/Documents/kylindros/results/fuSimpleVaryCoeffs/fuSimple/fuSimple_27-08_19-13-41_2025_N34.jld2\");"
   ]
  },
  {
   "cell_type": "code",
   "execution_count": 4,
   "id": "4935c1f7",
   "metadata": {},
   "outputs": [
    {
     "data": {
      "text/plain": [
       "\"/home/karnav/Documents/kylindros/plotting scripts/fuProfiles.pdf\""
      ]
     },
     "metadata": {},
     "output_type": "display_data"
    }
   ],
   "source": [
    "plot_profiles(solutions, constants)\n",
    "savefig(\"fuProfiles.pdf\")"
   ]
  },
  {
   "cell_type": "code",
   "execution_count": 5,
   "id": "161c0934",
   "metadata": {},
   "outputs": [
    {
     "data": {
      "text/plain": [
       "\"/home/karnav/Documents/kylindros/plotting scripts/fuBranch.pdf\""
      ]
     },
     "metadata": {},
     "output_type": "display_data"
    }
   ],
   "source": [
    "plot_branch(solutions, metadata, color_by_error = false)\n",
    "savefig(\"fuBranch.pdf\")"
   ]
  },
  {
   "cell_type": "code",
   "execution_count": 6,
   "id": "4b4a776b",
   "metadata": {},
   "outputs": [
    {
     "data": {
      "text/plain": [
       "\"/home/karnav/Documents/kylindros/plotting scripts/fuCondition.pdf\""
      ]
     },
     "metadata": {},
     "output_type": "display_data"
    }
   ],
   "source": [
    "plot_metric_vs_N(\"/home/karnav/Documents/kylindros/results/fuSimpleVaryCoeffs/fuSimple\"; indices=[1, 50, 75, 100, 125, 150, 175, 200], metric=:condition, legend_position=:topleft)\n",
    "savefig(\"fuCondition.pdf\")"
   ]
  },
  {
   "cell_type": "code",
   "execution_count": 7,
   "id": "641df2dd",
   "metadata": {},
   "outputs": [
    {
     "name": "stdout",
     "output_type": "stream",
     "text": [
      "Found N values: [8, 9, 10, 11, 13, 14, 15, 16, 17, 18, 19, 21, 22, 23, 24, 25, 26, 27, 28, 29, 30, 31, 32, 33, 34, 35, 36, 37, 38, 40]\n"
     ]
    },
    {
     "data": {
      "text/plain": [
       "\"/home/karnav/Documents/kylindros/plotting scripts/fuCauchyError.pdf\""
      ]
     },
     "metadata": {},
     "output_type": "display_data"
    }
   ],
   "source": [
    "results_path = \"/home/karnav/Documents/kylindros/results/fuSimpleVaryCoeffs/fuSimple\"\n",
    "plot_cauchy_error(results_path; indices=[50, 100, 150])\n",
    "savefig(\"fuCauchyError.pdf\")"
   ]
  }
 ],
 "metadata": {
  "kernelspec": {
   "display_name": "Julia 1.11.7",
   "language": "julia",
   "name": "julia-1.11"
  },
  "language_info": {
   "file_extension": ".jl",
   "mimetype": "application/julia",
   "name": "julia",
   "version": "1.11.7"
  }
 },
 "nbformat": 4,
 "nbformat_minor": 5
}
