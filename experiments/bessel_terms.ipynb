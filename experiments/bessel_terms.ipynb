{
 "cells": [
  {
   "cell_type": "code",
   "execution_count": 1,
   "id": "a9934fee",
   "metadata": {},
   "outputs": [],
   "source": [
    "using Plots \n",
    "using SpecialFunctions\n",
    "using ArbNumerics"
   ]
  },
  {
   "cell_type": "markdown",
   "id": "664e797c",
   "metadata": {},
   "source": [
    "## Checking if the methods exist "
   ]
  },
  {
   "cell_type": "code",
   "execution_count": 11,
   "id": "89e5881e",
   "metadata": {},
   "outputs": [
    {
     "data": {
      "text/html": [
       "# 19 methods for generic function <b>besselk</b> from \u001b[35mSpecialFunctions\u001b[39m:<ul><li> besselk(nu::<b>Float32</b>, x::<b>ComplexF32</b>) in SpecialFunctions at <a href=\"file:///home/karnav/.julia/packages/SpecialFunctions/mf0qH/src/bessel.jl\" target=\"_blank\">/home/karnav/.julia/packages/SpecialFunctions/mf0qH/src/bessel.jl:647</a></li> <li> besselk(nu::<b>Float16</b>, x::<b>ComplexF16</b>) in SpecialFunctions at <a href=\"file:///home/karnav/.julia/packages/SpecialFunctions/mf0qH/src/bessel.jl\" target=\"_blank\">/home/karnav/.julia/packages/SpecialFunctions/mf0qH/src/bessel.jl:646</a></li> <li> besselk(nu::<b>Float64</b>, z::<b>ComplexF64</b>) in SpecialFunctions at <a href=\"file:///home/karnav/.julia/packages/SpecialFunctions/mf0qH/src/bessel.jl\" target=\"_blank\">/home/karnav/.julia/packages/SpecialFunctions/mf0qH/src/bessel.jl:432</a></li> <li> besselk(nu::<b>ArbReal{P}</b>, x::<b>ArbReal{P}</b>)<i> where P</i> in ArbNumerics at <a href=\"file:///home/karnav/.julia/packages/ArbNumerics/ZW22a/src/float/bessel.jl\" target=\"_blank\">/home/karnav/.julia/packages/ArbNumerics/ZW22a/src/float/bessel.jl:6</a></li> <li> besselk(nu::<b>ArbReal{P}</b>, x::<b>ArbReal{P}</b>, prec::<b>Int64</b>)<i> where P</i> in ArbNumerics at <a href=\"file:///home/karnav/.julia/packages/ArbNumerics/ZW22a/src/float/bessel.jl\" target=\"_blank\">/home/karnav/.julia/packages/ArbNumerics/ZW22a/src/float/bessel.jl:6</a></li> <li> besselk(k::<b>T</b>, z::<b>Complex{T}</b>)<i> where T<:AbstractFloat</i> in SpecialFunctions at <a href=\"file:///home/karnav/.julia/packages/SpecialFunctions/mf0qH/src/bessel.jl\" target=\"_blank\">/home/karnav/.julia/packages/SpecialFunctions/mf0qH/src/bessel.jl:648</a></li> <li> besselk(nu::<b>ArbFloat{P}</b>, x::<b>ArbFloat{P}</b>)<i> where P</i> in ArbNumerics at <a href=\"file:///home/karnav/.julia/packages/ArbNumerics/ZW22a/src/float/bessel.jl\" target=\"_blank\">/home/karnav/.julia/packages/ArbNumerics/ZW22a/src/float/bessel.jl:30</a></li> <li> besselk(nu::<b>S</b>, x::<b>ArbFloat{P}</b>)<i> where {P, S<:Union{Float32, Float64, Int32, Int64}}</i> in ArbNumerics at <a href=\"file:///home/karnav/.julia/packages/ArbNumerics/ZW22a/src/float/bessel.jl\" target=\"_blank\">/home/karnav/.julia/packages/ArbNumerics/ZW22a/src/float/bessel.jl:35</a></li> <li> besselk(nu::<b>Real</b>, x::<b>AbstractFloat</b>) in SpecialFunctions at <a href=\"file:///home/karnav/.julia/packages/SpecialFunctions/mf0qH/src/bessel.jl\" target=\"_blank\">/home/karnav/.julia/packages/SpecialFunctions/mf0qH/src/bessel.jl:567</a></li> <li> besselk(nu::<b>S</b>, x::<b>ArbReal{P}</b>)<i> where {P, S<:Union{Float32, Float64, Int32, Int64}}</i> in ArbNumerics at <a href=\"file:///home/karnav/.julia/packages/ArbNumerics/ZW22a/src/float/bessel.jl\" target=\"_blank\">/home/karnav/.julia/packages/ArbNumerics/ZW22a/src/float/bessel.jl:40</a></li> <li> besselk(nu::<b>Real</b>, x::<b>Real</b>) in SpecialFunctions at <a href=\"file:///home/karnav/.julia/packages/SpecialFunctions/mf0qH/src/bessel.jl\" target=\"_blank\">/home/karnav/.julia/packages/SpecialFunctions/mf0qH/src/bessel.jl:641</a></li> <li> besselk(nu::<b>Real</b>, z::<b>Complex</b>) in SpecialFunctions at <a href=\"file:///home/karnav/.julia/packages/SpecialFunctions/mf0qH/src/bessel.jl\" target=\"_blank\">/home/karnav/.julia/packages/SpecialFunctions/mf0qH/src/bessel.jl:642</a></li> <li> besselk(nu::<b>ArbComplex{P}</b>, x::<b>ArbComplex{P}</b>)<i> where P</i> in ArbNumerics at <a href=\"file:///home/karnav/.julia/packages/ArbNumerics/ZW22a/src/float/bessel.jl\" target=\"_blank\">/home/karnav/.julia/packages/ArbNumerics/ZW22a/src/float/bessel.jl:18</a></li> <li> besselk(nu::<b>ArbComplex{P}</b>, x::<b>ArbComplex{P}</b>, prec::<b>Int64</b>)<i> where P</i> in ArbNumerics at <a href=\"file:///home/karnav/.julia/packages/ArbNumerics/ZW22a/src/float/bessel.jl\" target=\"_blank\">/home/karnav/.julia/packages/ArbNumerics/ZW22a/src/float/bessel.jl:18</a></li> <li> besselk(nu::<b>ArbFloat{P}</b>, x::<b>ArbFloat{P}</b>, prec::<b>Int64</b>)<i> where P</i> in ArbNumerics at <a href=\"file:///home/karnav/.julia/packages/ArbNumerics/ZW22a/src/float/bessel.jl\" target=\"_blank\">/home/karnav/.julia/packages/ArbNumerics/ZW22a/src/float/bessel.jl:30</a></li> <li> besselk(nu::<b>S</b>, x::<b>ArbFloat{P}</b>, prec::<b>Int64</b>)<i> where {P, S<:Union{Float32, Float64, Int32, Int64}}</i> in ArbNumerics at <a href=\"file:///home/karnav/.julia/packages/ArbNumerics/ZW22a/src/float/bessel.jl\" target=\"_blank\">/home/karnav/.julia/packages/ArbNumerics/ZW22a/src/float/bessel.jl:35</a></li> <li> besselk(nu::<b>S</b>, x::<b>ArbReal{P}</b>, prec::<b>Int64</b>)<i> where {P, S<:Union{Float32, Float64, Int32, Int64}}</i> in ArbNumerics at <a href=\"file:///home/karnav/.julia/packages/ArbNumerics/ZW22a/src/float/bessel.jl\" target=\"_blank\">/home/karnav/.julia/packages/ArbNumerics/ZW22a/src/float/bessel.jl:40</a></li> <li> besselk(nu::<b>S</b>, x::<b>ArbComplex{P}</b>)<i> where {P, S<:Union{Float32, Float64, Int32, Int64}}</i> in ArbNumerics at <a href=\"file:///home/karnav/.julia/packages/ArbNumerics/ZW22a/src/float/bessel.jl\" target=\"_blank\">/home/karnav/.julia/packages/ArbNumerics/ZW22a/src/float/bessel.jl:60</a></li> <li> besselk(nu::<b>S</b>, x::<b>ArbComplex{P}</b>, prec::<b>Int64</b>)<i> where {P, S<:Union{Float32, Float64, Int32, Int64}}</i> in ArbNumerics at <a href=\"file:///home/karnav/.julia/packages/ArbNumerics/ZW22a/src/float/bessel.jl\" target=\"_blank\">/home/karnav/.julia/packages/ArbNumerics/ZW22a/src/float/bessel.jl:60</a></li> </ul>"
      ],
      "text/plain": [
       "# 19 methods for generic function \"besselk\" from \u001b[35mSpecialFunctions\u001b[39m:\n",
       "  [1] besselk(\u001b[90mnu\u001b[39m::\u001b[1mFloat32\u001b[22m, \u001b[90mx\u001b[39m::\u001b[1mComplexF32\u001b[22m)\n",
       "\u001b[90m     @\u001b[39m \u001b[90m~/.julia/packages/SpecialFunctions/mf0qH/src/\u001b[39m\u001b[90m\u001b[4mbessel.jl:647\u001b[24m\u001b[39m\n",
       "  [2] besselk(\u001b[90mnu\u001b[39m::\u001b[1mFloat16\u001b[22m, \u001b[90mx\u001b[39m::\u001b[1mComplexF16\u001b[22m)\n",
       "\u001b[90m     @\u001b[39m \u001b[90m~/.julia/packages/SpecialFunctions/mf0qH/src/\u001b[39m\u001b[90m\u001b[4mbessel.jl:646\u001b[24m\u001b[39m\n",
       "  [3] besselk(\u001b[90mnu\u001b[39m::\u001b[1mFloat64\u001b[22m, \u001b[90mz\u001b[39m::\u001b[1mComplexF64\u001b[22m)\n",
       "\u001b[90m     @\u001b[39m \u001b[90m~/.julia/packages/SpecialFunctions/mf0qH/src/\u001b[39m\u001b[90m\u001b[4mbessel.jl:432\u001b[24m\u001b[39m\n",
       "  [4] besselk(\u001b[90mnu\u001b[39m::\u001b[1mArbReal\u001b[22m\u001b[0m{P}, \u001b[90mx\u001b[39m::\u001b[1mArbReal\u001b[22m\u001b[0m{P}) where P\n",
       "\u001b[90m     @\u001b[39m \u001b[36mArbNumerics\u001b[39m \u001b[90m~/.julia/packages/ArbNumerics/ZW22a/src/float/\u001b[39m\u001b[90m\u001b[4mbessel.jl:6\u001b[24m\u001b[39m\n",
       "  [5] besselk(\u001b[90mnu\u001b[39m::\u001b[1mArbReal\u001b[22m\u001b[0m{P}, \u001b[90mx\u001b[39m::\u001b[1mArbReal\u001b[22m\u001b[0m{P}, \u001b[90mprec\u001b[39m::\u001b[1mInt64\u001b[22m) where P\n",
       "\u001b[90m     @\u001b[39m \u001b[36mArbNumerics\u001b[39m \u001b[90m~/.julia/packages/ArbNumerics/ZW22a/src/float/\u001b[39m\u001b[90m\u001b[4mbessel.jl:6\u001b[24m\u001b[39m\n",
       "  [6] besselk(\u001b[90mk\u001b[39m::\u001b[1mT\u001b[22m, \u001b[90mz\u001b[39m::\u001b[1mComplex\u001b[22m\u001b[0m{T}) where T<:AbstractFloat\n",
       "\u001b[90m     @\u001b[39m \u001b[90m~/.julia/packages/SpecialFunctions/mf0qH/src/\u001b[39m\u001b[90m\u001b[4mbessel.jl:648\u001b[24m\u001b[39m\n",
       "  [7] besselk(\u001b[90mnu\u001b[39m::\u001b[1mArbFloat\u001b[22m\u001b[0m{P}, \u001b[90mx\u001b[39m::\u001b[1mArbFloat\u001b[22m\u001b[0m{P}) where P\n",
       "\u001b[90m     @\u001b[39m \u001b[36mArbNumerics\u001b[39m \u001b[90m~/.julia/packages/ArbNumerics/ZW22a/src/float/\u001b[39m\u001b[90m\u001b[4mbessel.jl:30\u001b[24m\u001b[39m\n",
       "  [8] besselk(\u001b[90mnu\u001b[39m::\u001b[1mS\u001b[22m, \u001b[90mx\u001b[39m::\u001b[1mArbFloat\u001b[22m\u001b[0m{P}) where {P, S<:Union{Float32, Float64, Int32, Int64}}\n",
       "\u001b[90m     @\u001b[39m \u001b[36mArbNumerics\u001b[39m \u001b[90m~/.julia/packages/ArbNumerics/ZW22a/src/float/\u001b[39m\u001b[90m\u001b[4mbessel.jl:35\u001b[24m\u001b[39m\n",
       "  [9] besselk(\u001b[90mnu\u001b[39m::\u001b[1mReal\u001b[22m, \u001b[90mx\u001b[39m::\u001b[1mAbstractFloat\u001b[22m)\n",
       "\u001b[90m     @\u001b[39m \u001b[90m~/.julia/packages/SpecialFunctions/mf0qH/src/\u001b[39m\u001b[90m\u001b[4mbessel.jl:567\u001b[24m\u001b[39m\n",
       " [10] besselk(\u001b[90mnu\u001b[39m::\u001b[1mS\u001b[22m, \u001b[90mx\u001b[39m::\u001b[1mArbReal\u001b[22m\u001b[0m{P}) where {P, S<:Union{Float32, Float64, Int32, Int64}}\n",
       "\u001b[90m     @\u001b[39m \u001b[36mArbNumerics\u001b[39m \u001b[90m~/.julia/packages/ArbNumerics/ZW22a/src/float/\u001b[39m\u001b[90m\u001b[4mbessel.jl:40\u001b[24m\u001b[39m\n",
       " [11] besselk(\u001b[90mnu\u001b[39m::\u001b[1mReal\u001b[22m, \u001b[90mx\u001b[39m::\u001b[1mReal\u001b[22m)\n",
       "\u001b[90m     @\u001b[39m \u001b[90m~/.julia/packages/SpecialFunctions/mf0qH/src/\u001b[39m\u001b[90m\u001b[4mbessel.jl:641\u001b[24m\u001b[39m\n",
       " [12] besselk(\u001b[90mnu\u001b[39m::\u001b[1mReal\u001b[22m, \u001b[90mz\u001b[39m::\u001b[1mComplex\u001b[22m)\n",
       "\u001b[90m     @\u001b[39m \u001b[90m~/.julia/packages/SpecialFunctions/mf0qH/src/\u001b[39m\u001b[90m\u001b[4mbessel.jl:642\u001b[24m\u001b[39m\n",
       " [13] besselk(\u001b[90mnu\u001b[39m::\u001b[1mArbComplex\u001b[22m\u001b[0m{P}, \u001b[90mx\u001b[39m::\u001b[1mArbComplex\u001b[22m\u001b[0m{P}) where P\n",
       "\u001b[90m     @\u001b[39m \u001b[36mArbNumerics\u001b[39m \u001b[90m~/.julia/packages/ArbNumerics/ZW22a/src/float/\u001b[39m\u001b[90m\u001b[4mbessel.jl:18\u001b[24m\u001b[39m\n",
       " [14] besselk(\u001b[90mnu\u001b[39m::\u001b[1mArbComplex\u001b[22m\u001b[0m{P}, \u001b[90mx\u001b[39m::\u001b[1mArbComplex\u001b[22m\u001b[0m{P}, \u001b[90mprec\u001b[39m::\u001b[1mInt64\u001b[22m) where P\n",
       "\u001b[90m     @\u001b[39m \u001b[36mArbNumerics\u001b[39m \u001b[90m~/.julia/packages/ArbNumerics/ZW22a/src/float/\u001b[39m\u001b[90m\u001b[4mbessel.jl:18\u001b[24m\u001b[39m\n",
       " [15] besselk(\u001b[90mnu\u001b[39m::\u001b[1mArbFloat\u001b[22m\u001b[0m{P}, \u001b[90mx\u001b[39m::\u001b[1mArbFloat\u001b[22m\u001b[0m{P}, \u001b[90mprec\u001b[39m::\u001b[1mInt64\u001b[22m) where P\n",
       "\u001b[90m     @\u001b[39m \u001b[36mArbNumerics\u001b[39m \u001b[90m~/.julia/packages/ArbNumerics/ZW22a/src/float/\u001b[39m\u001b[90m\u001b[4mbessel.jl:30\u001b[24m\u001b[39m\n",
       " [16] besselk(\u001b[90mnu\u001b[39m::\u001b[1mS\u001b[22m, \u001b[90mx\u001b[39m::\u001b[1mArbFloat\u001b[22m\u001b[0m{P}, \u001b[90mprec\u001b[39m::\u001b[1mInt64\u001b[22m) where {P, S<:Union{Float32, Float64, Int32, Int64}}\n",
       "\u001b[90m     @\u001b[39m \u001b[36mArbNumerics\u001b[39m \u001b[90m~/.julia/packages/ArbNumerics/ZW22a/src/float/\u001b[39m\u001b[90m\u001b[4mbessel.jl:35\u001b[24m\u001b[39m\n",
       " [17] besselk(\u001b[90mnu\u001b[39m::\u001b[1mS\u001b[22m, \u001b[90mx\u001b[39m::\u001b[1mArbReal\u001b[22m\u001b[0m{P}, \u001b[90mprec\u001b[39m::\u001b[1mInt64\u001b[22m) where {P, S<:Union{Float32, Float64, Int32, Int64}}\n",
       "\u001b[90m     @\u001b[39m \u001b[36mArbNumerics\u001b[39m \u001b[90m~/.julia/packages/ArbNumerics/ZW22a/src/float/\u001b[39m\u001b[90m\u001b[4mbessel.jl:40\u001b[24m\u001b[39m\n",
       " [18] besselk(\u001b[90mnu\u001b[39m::\u001b[1mS\u001b[22m, \u001b[90mx\u001b[39m::\u001b[1mArbComplex\u001b[22m\u001b[0m{P}) where {P, S<:Union{Float32, Float64, Int32, Int64}}\n",
       "\u001b[90m     @\u001b[39m \u001b[36mArbNumerics\u001b[39m \u001b[90m~/.julia/packages/ArbNumerics/ZW22a/src/float/\u001b[39m\u001b[90m\u001b[4mbessel.jl:60\u001b[24m\u001b[39m\n",
       " [19] besselk(\u001b[90mnu\u001b[39m::\u001b[1mS\u001b[22m, \u001b[90mx\u001b[39m::\u001b[1mArbComplex\u001b[22m\u001b[0m{P}, \u001b[90mprec\u001b[39m::\u001b[1mInt64\u001b[22m) where {P, S<:Union{Float32, Float64, Int32, Int64}}\n",
       "\u001b[90m     @\u001b[39m \u001b[36mArbNumerics\u001b[39m \u001b[90m~/.julia/packages/ArbNumerics/ZW22a/src/float/\u001b[39m\u001b[90m\u001b[4mbessel.jl:60\u001b[24m\u001b[39m"
      ]
     },
     "metadata": {},
     "output_type": "display_data"
    }
   ],
   "source": [
    "methods(besselk)"
   ]
  },
  {
   "cell_type": "code",
   "execution_count": 12,
   "id": "2751288c",
   "metadata": {},
   "outputs": [
    {
     "data": {
      "text/html": [
       "# 19 methods for generic function <b>besseli</b> from \u001b[35mSpecialFunctions\u001b[39m:<ul><li> besseli(nu::<b>Float32</b>, x::<b>ComplexF32</b>) in SpecialFunctions at <a href=\"file:///home/karnav/.julia/packages/SpecialFunctions/mf0qH/src/bessel.jl\" target=\"_blank\">/home/karnav/.julia/packages/SpecialFunctions/mf0qH/src/bessel.jl:647</a></li> <li> besseli(nu::<b>Float16</b>, x::<b>ComplexF16</b>) in SpecialFunctions at <a href=\"file:///home/karnav/.julia/packages/SpecialFunctions/mf0qH/src/bessel.jl\" target=\"_blank\">/home/karnav/.julia/packages/SpecialFunctions/mf0qH/src/bessel.jl:646</a></li> <li> besseli(nu::<b>Float64</b>, z::<b>ComplexF64</b>) in SpecialFunctions at <a href=\"file:///home/karnav/.julia/packages/SpecialFunctions/mf0qH/src/bessel.jl\" target=\"_blank\">/home/karnav/.julia/packages/SpecialFunctions/mf0qH/src/bessel.jl:380</a></li> <li> besseli(nu::<b>ArbReal{P}</b>, x::<b>ArbReal{P}</b>)<i> where P</i> in ArbNumerics at <a href=\"file:///home/karnav/.julia/packages/ArbNumerics/ZW22a/src/float/bessel.jl\" target=\"_blank\">/home/karnav/.julia/packages/ArbNumerics/ZW22a/src/float/bessel.jl:6</a></li> <li> besseli(nu::<b>ArbReal{P}</b>, x::<b>ArbReal{P}</b>, prec::<b>Int64</b>)<i> where P</i> in ArbNumerics at <a href=\"file:///home/karnav/.julia/packages/ArbNumerics/ZW22a/src/float/bessel.jl\" target=\"_blank\">/home/karnav/.julia/packages/ArbNumerics/ZW22a/src/float/bessel.jl:6</a></li> <li> besseli(k::<b>T</b>, z::<b>Complex{T}</b>)<i> where T<:AbstractFloat</i> in SpecialFunctions at <a href=\"file:///home/karnav/.julia/packages/SpecialFunctions/mf0qH/src/bessel.jl\" target=\"_blank\">/home/karnav/.julia/packages/SpecialFunctions/mf0qH/src/bessel.jl:648</a></li> <li> besseli(nu::<b>ArbFloat{P}</b>, x::<b>ArbFloat{P}</b>)<i> where P</i> in ArbNumerics at <a href=\"file:///home/karnav/.julia/packages/ArbNumerics/ZW22a/src/float/bessel.jl\" target=\"_blank\">/home/karnav/.julia/packages/ArbNumerics/ZW22a/src/float/bessel.jl:29</a></li> <li> besseli(nu::<b>S</b>, x::<b>ArbFloat{P}</b>)<i> where {P, S<:Union{Float32, Float64, Int32, Int64}}</i> in ArbNumerics at <a href=\"file:///home/karnav/.julia/packages/ArbNumerics/ZW22a/src/float/bessel.jl\" target=\"_blank\">/home/karnav/.julia/packages/ArbNumerics/ZW22a/src/float/bessel.jl:34</a></li> <li> besseli(nu::<b>Real</b>, x::<b>AbstractFloat</b>) in SpecialFunctions at <a href=\"file:///home/karnav/.julia/packages/SpecialFunctions/mf0qH/src/bessel.jl\" target=\"_blank\">/home/karnav/.julia/packages/SpecialFunctions/mf0qH/src/bessel.jl:479</a></li> <li> besseli(nu::<b>S</b>, x::<b>ArbReal{P}</b>)<i> where {P, S<:Union{Float32, Float64, Int32, Int64}}</i> in ArbNumerics at <a href=\"file:///home/karnav/.julia/packages/ArbNumerics/ZW22a/src/float/bessel.jl\" target=\"_blank\">/home/karnav/.julia/packages/ArbNumerics/ZW22a/src/float/bessel.jl:39</a></li> <li> besseli(nu::<b>Real</b>, x::<b>Real</b>) in SpecialFunctions at <a href=\"file:///home/karnav/.julia/packages/SpecialFunctions/mf0qH/src/bessel.jl\" target=\"_blank\">/home/karnav/.julia/packages/SpecialFunctions/mf0qH/src/bessel.jl:641</a></li> <li> besseli(nu::<b>Real</b>, z::<b>Complex</b>) in SpecialFunctions at <a href=\"file:///home/karnav/.julia/packages/SpecialFunctions/mf0qH/src/bessel.jl\" target=\"_blank\">/home/karnav/.julia/packages/SpecialFunctions/mf0qH/src/bessel.jl:642</a></li> <li> besseli(nu::<b>ArbComplex{P}</b>, x::<b>ArbComplex{P}</b>)<i> where P</i> in ArbNumerics at <a href=\"file:///home/karnav/.julia/packages/ArbNumerics/ZW22a/src/float/bessel.jl\" target=\"_blank\">/home/karnav/.julia/packages/ArbNumerics/ZW22a/src/float/bessel.jl:18</a></li> <li> besseli(nu::<b>ArbComplex{P}</b>, x::<b>ArbComplex{P}</b>, prec::<b>Int64</b>)<i> where P</i> in ArbNumerics at <a href=\"file:///home/karnav/.julia/packages/ArbNumerics/ZW22a/src/float/bessel.jl\" target=\"_blank\">/home/karnav/.julia/packages/ArbNumerics/ZW22a/src/float/bessel.jl:18</a></li> <li> besseli(nu::<b>ArbFloat{P}</b>, x::<b>ArbFloat{P}</b>, prec::<b>Int64</b>)<i> where P</i> in ArbNumerics at <a href=\"file:///home/karnav/.julia/packages/ArbNumerics/ZW22a/src/float/bessel.jl\" target=\"_blank\">/home/karnav/.julia/packages/ArbNumerics/ZW22a/src/float/bessel.jl:29</a></li> <li> besseli(nu::<b>S</b>, x::<b>ArbFloat{P}</b>, prec::<b>Int64</b>)<i> where {P, S<:Union{Float32, Float64, Int32, Int64}}</i> in ArbNumerics at <a href=\"file:///home/karnav/.julia/packages/ArbNumerics/ZW22a/src/float/bessel.jl\" target=\"_blank\">/home/karnav/.julia/packages/ArbNumerics/ZW22a/src/float/bessel.jl:34</a></li> <li> besseli(nu::<b>S</b>, x::<b>ArbReal{P}</b>, prec::<b>Int64</b>)<i> where {P, S<:Union{Float32, Float64, Int32, Int64}}</i> in ArbNumerics at <a href=\"file:///home/karnav/.julia/packages/ArbNumerics/ZW22a/src/float/bessel.jl\" target=\"_blank\">/home/karnav/.julia/packages/ArbNumerics/ZW22a/src/float/bessel.jl:39</a></li> <li> besseli(nu::<b>S</b>, x::<b>ArbComplex{P}</b>)<i> where {P, S<:Union{Float32, Float64, Int32, Int64}}</i> in ArbNumerics at <a href=\"file:///home/karnav/.julia/packages/ArbNumerics/ZW22a/src/float/bessel.jl\" target=\"_blank\">/home/karnav/.julia/packages/ArbNumerics/ZW22a/src/float/bessel.jl:59</a></li> <li> besseli(nu::<b>S</b>, x::<b>ArbComplex{P}</b>, prec::<b>Int64</b>)<i> where {P, S<:Union{Float32, Float64, Int32, Int64}}</i> in ArbNumerics at <a href=\"file:///home/karnav/.julia/packages/ArbNumerics/ZW22a/src/float/bessel.jl\" target=\"_blank\">/home/karnav/.julia/packages/ArbNumerics/ZW22a/src/float/bessel.jl:59</a></li> </ul>"
      ],
      "text/plain": [
       "# 19 methods for generic function \"besseli\" from \u001b[35mSpecialFunctions\u001b[39m:\n",
       "  [1] besseli(\u001b[90mnu\u001b[39m::\u001b[1mFloat32\u001b[22m, \u001b[90mx\u001b[39m::\u001b[1mComplexF32\u001b[22m)\n",
       "\u001b[90m     @\u001b[39m \u001b[90m~/.julia/packages/SpecialFunctions/mf0qH/src/\u001b[39m\u001b[90m\u001b[4mbessel.jl:647\u001b[24m\u001b[39m\n",
       "  [2] besseli(\u001b[90mnu\u001b[39m::\u001b[1mFloat16\u001b[22m, \u001b[90mx\u001b[39m::\u001b[1mComplexF16\u001b[22m)\n",
       "\u001b[90m     @\u001b[39m \u001b[90m~/.julia/packages/SpecialFunctions/mf0qH/src/\u001b[39m\u001b[90m\u001b[4mbessel.jl:646\u001b[24m\u001b[39m\n",
       "  [3] besseli(\u001b[90mnu\u001b[39m::\u001b[1mFloat64\u001b[22m, \u001b[90mz\u001b[39m::\u001b[1mComplexF64\u001b[22m)\n",
       "\u001b[90m     @\u001b[39m \u001b[90m~/.julia/packages/SpecialFunctions/mf0qH/src/\u001b[39m\u001b[90m\u001b[4mbessel.jl:380\u001b[24m\u001b[39m\n",
       "  [4] besseli(\u001b[90mnu\u001b[39m::\u001b[1mArbReal\u001b[22m\u001b[0m{P}, \u001b[90mx\u001b[39m::\u001b[1mArbReal\u001b[22m\u001b[0m{P}) where P\n",
       "\u001b[90m     @\u001b[39m \u001b[36mArbNumerics\u001b[39m \u001b[90m~/.julia/packages/ArbNumerics/ZW22a/src/float/\u001b[39m\u001b[90m\u001b[4mbessel.jl:6\u001b[24m\u001b[39m\n",
       "  [5] besseli(\u001b[90mnu\u001b[39m::\u001b[1mArbReal\u001b[22m\u001b[0m{P}, \u001b[90mx\u001b[39m::\u001b[1mArbReal\u001b[22m\u001b[0m{P}, \u001b[90mprec\u001b[39m::\u001b[1mInt64\u001b[22m) where P\n",
       "\u001b[90m     @\u001b[39m \u001b[36mArbNumerics\u001b[39m \u001b[90m~/.julia/packages/ArbNumerics/ZW22a/src/float/\u001b[39m\u001b[90m\u001b[4mbessel.jl:6\u001b[24m\u001b[39m\n",
       "  [6] besseli(\u001b[90mk\u001b[39m::\u001b[1mT\u001b[22m, \u001b[90mz\u001b[39m::\u001b[1mComplex\u001b[22m\u001b[0m{T}) where T<:AbstractFloat\n",
       "\u001b[90m     @\u001b[39m \u001b[90m~/.julia/packages/SpecialFunctions/mf0qH/src/\u001b[39m\u001b[90m\u001b[4mbessel.jl:648\u001b[24m\u001b[39m\n",
       "  [7] besseli(\u001b[90mnu\u001b[39m::\u001b[1mArbFloat\u001b[22m\u001b[0m{P}, \u001b[90mx\u001b[39m::\u001b[1mArbFloat\u001b[22m\u001b[0m{P}) where P\n",
       "\u001b[90m     @\u001b[39m \u001b[36mArbNumerics\u001b[39m \u001b[90m~/.julia/packages/ArbNumerics/ZW22a/src/float/\u001b[39m\u001b[90m\u001b[4mbessel.jl:29\u001b[24m\u001b[39m\n",
       "  [8] besseli(\u001b[90mnu\u001b[39m::\u001b[1mS\u001b[22m, \u001b[90mx\u001b[39m::\u001b[1mArbFloat\u001b[22m\u001b[0m{P}) where {P, S<:Union{Float32, Float64, Int32, Int64}}\n",
       "\u001b[90m     @\u001b[39m \u001b[36mArbNumerics\u001b[39m \u001b[90m~/.julia/packages/ArbNumerics/ZW22a/src/float/\u001b[39m\u001b[90m\u001b[4mbessel.jl:34\u001b[24m\u001b[39m\n",
       "  [9] besseli(\u001b[90mnu\u001b[39m::\u001b[1mReal\u001b[22m, \u001b[90mx\u001b[39m::\u001b[1mAbstractFloat\u001b[22m)\n",
       "\u001b[90m     @\u001b[39m \u001b[90m~/.julia/packages/SpecialFunctions/mf0qH/src/\u001b[39m\u001b[90m\u001b[4mbessel.jl:479\u001b[24m\u001b[39m\n",
       " [10] besseli(\u001b[90mnu\u001b[39m::\u001b[1mS\u001b[22m, \u001b[90mx\u001b[39m::\u001b[1mArbReal\u001b[22m\u001b[0m{P}) where {P, S<:Union{Float32, Float64, Int32, Int64}}\n",
       "\u001b[90m     @\u001b[39m \u001b[36mArbNumerics\u001b[39m \u001b[90m~/.julia/packages/ArbNumerics/ZW22a/src/float/\u001b[39m\u001b[90m\u001b[4mbessel.jl:39\u001b[24m\u001b[39m\n",
       " [11] besseli(\u001b[90mnu\u001b[39m::\u001b[1mReal\u001b[22m, \u001b[90mx\u001b[39m::\u001b[1mReal\u001b[22m)\n",
       "\u001b[90m     @\u001b[39m \u001b[90m~/.julia/packages/SpecialFunctions/mf0qH/src/\u001b[39m\u001b[90m\u001b[4mbessel.jl:641\u001b[24m\u001b[39m\n",
       " [12] besseli(\u001b[90mnu\u001b[39m::\u001b[1mReal\u001b[22m, \u001b[90mz\u001b[39m::\u001b[1mComplex\u001b[22m)\n",
       "\u001b[90m     @\u001b[39m \u001b[90m~/.julia/packages/SpecialFunctions/mf0qH/src/\u001b[39m\u001b[90m\u001b[4mbessel.jl:642\u001b[24m\u001b[39m\n",
       " [13] besseli(\u001b[90mnu\u001b[39m::\u001b[1mArbComplex\u001b[22m\u001b[0m{P}, \u001b[90mx\u001b[39m::\u001b[1mArbComplex\u001b[22m\u001b[0m{P}) where P\n",
       "\u001b[90m     @\u001b[39m \u001b[36mArbNumerics\u001b[39m \u001b[90m~/.julia/packages/ArbNumerics/ZW22a/src/float/\u001b[39m\u001b[90m\u001b[4mbessel.jl:18\u001b[24m\u001b[39m\n",
       " [14] besseli(\u001b[90mnu\u001b[39m::\u001b[1mArbComplex\u001b[22m\u001b[0m{P}, \u001b[90mx\u001b[39m::\u001b[1mArbComplex\u001b[22m\u001b[0m{P}, \u001b[90mprec\u001b[39m::\u001b[1mInt64\u001b[22m) where P\n",
       "\u001b[90m     @\u001b[39m \u001b[36mArbNumerics\u001b[39m \u001b[90m~/.julia/packages/ArbNumerics/ZW22a/src/float/\u001b[39m\u001b[90m\u001b[4mbessel.jl:18\u001b[24m\u001b[39m\n",
       " [15] besseli(\u001b[90mnu\u001b[39m::\u001b[1mArbFloat\u001b[22m\u001b[0m{P}, \u001b[90mx\u001b[39m::\u001b[1mArbFloat\u001b[22m\u001b[0m{P}, \u001b[90mprec\u001b[39m::\u001b[1mInt64\u001b[22m) where P\n",
       "\u001b[90m     @\u001b[39m \u001b[36mArbNumerics\u001b[39m \u001b[90m~/.julia/packages/ArbNumerics/ZW22a/src/float/\u001b[39m\u001b[90m\u001b[4mbessel.jl:29\u001b[24m\u001b[39m\n",
       " [16] besseli(\u001b[90mnu\u001b[39m::\u001b[1mS\u001b[22m, \u001b[90mx\u001b[39m::\u001b[1mArbFloat\u001b[22m\u001b[0m{P}, \u001b[90mprec\u001b[39m::\u001b[1mInt64\u001b[22m) where {P, S<:Union{Float32, Float64, Int32, Int64}}\n",
       "\u001b[90m     @\u001b[39m \u001b[36mArbNumerics\u001b[39m \u001b[90m~/.julia/packages/ArbNumerics/ZW22a/src/float/\u001b[39m\u001b[90m\u001b[4mbessel.jl:34\u001b[24m\u001b[39m\n",
       " [17] besseli(\u001b[90mnu\u001b[39m::\u001b[1mS\u001b[22m, \u001b[90mx\u001b[39m::\u001b[1mArbReal\u001b[22m\u001b[0m{P}, \u001b[90mprec\u001b[39m::\u001b[1mInt64\u001b[22m) where {P, S<:Union{Float32, Float64, Int32, Int64}}\n",
       "\u001b[90m     @\u001b[39m \u001b[36mArbNumerics\u001b[39m \u001b[90m~/.julia/packages/ArbNumerics/ZW22a/src/float/\u001b[39m\u001b[90m\u001b[4mbessel.jl:39\u001b[24m\u001b[39m\n",
       " [18] besseli(\u001b[90mnu\u001b[39m::\u001b[1mS\u001b[22m, \u001b[90mx\u001b[39m::\u001b[1mArbComplex\u001b[22m\u001b[0m{P}) where {P, S<:Union{Float32, Float64, Int32, Int64}}\n",
       "\u001b[90m     @\u001b[39m \u001b[36mArbNumerics\u001b[39m \u001b[90m~/.julia/packages/ArbNumerics/ZW22a/src/float/\u001b[39m\u001b[90m\u001b[4mbessel.jl:59\u001b[24m\u001b[39m\n",
       " [19] besseli(\u001b[90mnu\u001b[39m::\u001b[1mS\u001b[22m, \u001b[90mx\u001b[39m::\u001b[1mArbComplex\u001b[22m\u001b[0m{P}, \u001b[90mprec\u001b[39m::\u001b[1mInt64\u001b[22m) where {P, S<:Union{Float32, Float64, Int32, Int64}}\n",
       "\u001b[90m     @\u001b[39m \u001b[36mArbNumerics\u001b[39m \u001b[90m~/.julia/packages/ArbNumerics/ZW22a/src/float/\u001b[39m\u001b[90m\u001b[4mbessel.jl:59\u001b[24m\u001b[39m"
      ]
     },
     "metadata": {},
     "output_type": "display_data"
    }
   ],
   "source": [
    "methods(SpecialFunctions.besseli)"
   ]
  },
  {
   "cell_type": "code",
   "execution_count": null,
   "id": "59e597d8",
   "metadata": {},
   "outputs": [
    {
     "name": "stdout",
     "output_type": "stream",
     "text": [
      "K = 3.9963119385460033495059154632059913421567407577956702419e-219 ± 2.37248776425083958136791314599843334725909006927974175244e-259\n"
     ]
    }
   ],
   "source": [
    "setprecision(ArbReal, 113); setextrabits(24)\n",
    "\n",
    "ν  = ArbReal(\"1.0\")\n",
    "x  = ArbReal(\"500\")\n",
    "yK = besselk(ν, x)  \n",
    "\n",
    "mid, rad = ball(yK)\n",
    "println(\"K = $mid ± $rad\")   "
   ]
  },
  {
   "cell_type": "markdown",
   "id": "d8e1f6c0",
   "metadata": {},
   "source": [
    "# Testing our term "
   ]
  },
  {
   "cell_type": "code",
   "execution_count": 6,
   "id": "6aca0a97",
   "metadata": {},
   "outputs": [],
   "source": [
    "setprecision(ArbReal, 113); setextrabits(24); "
   ]
  },
  {
   "cell_type": "code",
   "execution_count": 69,
   "id": "8d501a54",
   "metadata": {},
   "outputs": [
    {
     "data": {
      "text/plain": [
       "ArbReal{137}"
      ]
     },
     "metadata": {},
     "output_type": "display_data"
    }
   ],
   "source": [
    "test_term = ArbReal(\"0.1\")\n",
    "typeof(test_term)"
   ]
  },
  {
   "cell_type": "code",
   "execution_count": 58,
   "id": "455db022",
   "metadata": {},
   "outputs": [
    {
     "data": {
      "text/plain": [
       "combo_term_vec (generic function with 1 method)"
      ]
     },
     "metadata": {},
     "output_type": "display_data"
    }
   ],
   "source": [
    "const b = ArbFloat(\"0.1\")\n",
    "\n",
    "function combo_term(k::Integer, s::ArbFloat)\n",
    "    kb = ArbFloat(k) * b\n",
    "    ks = ArbFloat(k) * s\n",
    "    K1_kb = besselk(1, kb)\n",
    "    I1_kb = besseli(1, kb)\n",
    "    K1_ks = besselk(1, ks)\n",
    "    I1_ks = besseli(1, ks)\n",
    "    return K1_kb*I1_ks - I1_kb*K1_ks\n",
    "end\n",
    "\n",
    "combo_term_vec(k::Integer, S) = combo_term.(k, ArbFloat.(S))"
   ]
  },
  {
   "cell_type": "code",
   "execution_count": 7,
   "id": "b1e8eb49",
   "metadata": {},
   "outputs": [
    {
     "data": {
      "text/plain": [
       "ArbFloat{137}"
      ]
     },
     "metadata": {},
     "output_type": "display_data"
    }
   ],
   "source": [
    "typeof(ArbFloat(1.2))"
   ]
  }
 ],
 "metadata": {
  "kernelspec": {
   "display_name": "Julia 1.11.6",
   "language": "julia",
   "name": "julia-1.11"
  },
  "language_info": {
   "file_extension": ".jl",
   "mimetype": "application/julia",
   "name": "julia",
   "version": "1.11.6"
  }
 },
 "nbformat": 4,
 "nbformat_minor": 5
}
