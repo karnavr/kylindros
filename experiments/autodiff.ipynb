{
 "cells": [
  {
   "cell_type": "code",
   "execution_count": 1,
   "metadata": {},
   "outputs": [],
   "source": [
    "using LinearAlgebra\n",
    "using ForwardDiff"
   ]
  },
  {
   "cell_type": "code",
   "execution_count": 2,
   "metadata": {},
   "outputs": [
    {
     "data": {
      "text/plain": [
       "Newton_autodiff (generic function with 1 method)"
      ]
     },
     "metadata": {},
     "output_type": "display_data"
    }
   ],
   "source": [
    "# Compute Jacobian using finite differences\n",
    "function finite_diff_jacobian(f, x::Vector{Float64}, h::Float64 = 1e-6)\n",
    "    n = length(x)\n",
    "    J = zeros(n, n)\n",
    "    fx = f(x)  # Compute f(x) once to avoid redundant evaluations\n",
    "    for j in 1:n\n",
    "        x_perturbed = copy(x)\n",
    "        x_perturbed[j] += h\n",
    "        J[:, j] = (f(x_perturbed) - fx) / h\n",
    "    end\n",
    "    return J\n",
    "end\n",
    "\n",
    "# Compute Jacobian using automatic differentiation\n",
    "function autodiff_jacobian(f, x::Vector{Float64})\n",
    "    return ForwardDiff.jacobian(f, x)\n",
    "end\n",
    "\n",
    "# Newton solver (already given) using finite differences\n",
    "function Newton_finite_diff(f, x::Vector{Float64}; tol::Float64 = 1e-8, max_iter::Int64 = 1000)\n",
    "    for i in 1:max_iter\n",
    "        J = finite_diff_jacobian(f, x)\n",
    "        δx = -J \\ f(x)  # Newton update step\n",
    "        x += δx\n",
    "        if norm(δx) < tol\n",
    "            return x, i, 0\n",
    "        end\n",
    "    end\n",
    "    println(\"Failed to converge after $max_iter iterations, returning last computed solution.\")\n",
    "    return x, max_iter, 1\n",
    "end\n",
    "\n",
    "# Newton solver using automatic differentiation\n",
    "function Newton_autodiff(f, x::Vector{Float64}; tol::Float64 = 1e-8, max_iter::Int64 = 1000)\n",
    "    for i in 1:max_iter\n",
    "        J = autodiff_jacobian(f, x)\n",
    "        δx = -J \\ f(x)  # Newton update step\n",
    "        x += δx\n",
    "        if norm(δx) < tol\n",
    "            return x, i, 0\n",
    "        end\n",
    "    end\n",
    "    println(\"Failed to converge after $max_iter iterations, returning last computed solution.\")\n",
    "    return x, max_iter, 1\n",
    "end"
   ]
  },
  {
   "cell_type": "code",
   "execution_count": 5,
   "metadata": {},
   "outputs": [
    {
     "ename": "ArgumentError",
     "evalue": "ArgumentError: matrix contains Infs or NaNs",
     "output_type": "error",
     "traceback": [
      "ArgumentError: matrix contains Infs or NaNs\n",
      "\n",
      "Stacktrace:\n",
      "  [1] chkfinite\n",
      "    @ /snap/julia/136/share/julia/stdlib/v1.11/LinearAlgebra/src/lapack.jl:105 [inlined]\n",
      "  [2] getrf!(A::Matrix{Float64}, ipiv::Vector{Int64}; check::Bool)\n",
      "    @ LinearAlgebra.LAPACK /snap/julia/136/share/julia/stdlib/v1.11/LinearAlgebra/src/lapack.jl:582\n",
      "  [3] getrf!\n",
      "    @ /snap/julia/136/share/julia/stdlib/v1.11/LinearAlgebra/src/lapack.jl:580 [inlined]\n",
      "  [4] getrf!\n",
      "    @ /snap/julia/136/share/julia/stdlib/v1.11/LinearAlgebra/src/lapack.jl:787 [inlined]\n",
      "  [5] #lu!#182\n",
      "    @ /snap/julia/136/share/julia/stdlib/v1.11/LinearAlgebra/src/lu.jl:91 [inlined]\n",
      "  [6] lu!\n",
      "    @ /snap/julia/136/share/julia/stdlib/v1.11/LinearAlgebra/src/lu.jl:90 [inlined]\n",
      "  [7] lu!\n",
      "    @ /snap/julia/136/share/julia/stdlib/v1.11/LinearAlgebra/src/lu.jl:89 [inlined]\n",
      "  [8] _lu\n",
      "    @ /snap/julia/136/share/julia/stdlib/v1.11/LinearAlgebra/src/lu.jl:347 [inlined]\n",
      "  [9] lu(::Matrix{Float64}; kwargs::@Kwargs{})\n",
      "    @ LinearAlgebra /snap/julia/136/share/julia/stdlib/v1.11/LinearAlgebra/src/lu.jl:341\n",
      " [10] lu\n",
      "    @ /snap/julia/136/share/julia/stdlib/v1.11/LinearAlgebra/src/lu.jl:341 [inlined]\n",
      " [11] \\(A::Matrix{Float64}, B::Vector{Float64})\n",
      "    @ LinearAlgebra /snap/julia/136/share/julia/stdlib/v1.11/LinearAlgebra/src/generic.jl:1132\n",
      " [12] Newton_finite_diff(f::typeof(F10), x::Vector{Float64}; tol::Float64, max_iter::Int64)\n",
      "    @ Main ~/Documents/kylindros/experiments/jl_notebook_cell_df34fa98e69747e1a8f8a730347b8e2f_W1sdnNjb2RlLXJlbW90ZQ==.jl:23\n",
      " [13] Newton_finite_diff\n",
      "    @ ~/Documents/kylindros/experiments/jl_notebook_cell_df34fa98e69747e1a8f8a730347b8e2f_W1sdnNjb2RlLXJlbW90ZQ==.jl:20 [inlined]\n",
      " [14] macro expansion\n",
      "    @ ./timing.jl:581 [inlined]\n",
      " [15] top-level scope\n",
      "    @ ~/Documents/kylindros/experiments/jl_notebook_cell_df34fa98e69747e1a8f8a730347b8e2f_W2sdnNjb2RlLXJlbW90ZQ==.jl:34"
     ]
    }
   ],
   "source": [
    "# Initial guess\n",
    "x0 = [0.5, 0.5, 0.5, 0.5, 0.5, 0.5, 0.5, 0.5, 0.5, 0.5]\n",
    "\n",
    "# Define the nonlinear function\n",
    "# function F(x::Vector)\n",
    "#     return [10 * (x[1] - x[2]^2); 1 - x[1]]\n",
    "# end\n",
    "\n",
    "function F(x::Vector)\n",
    "    return [\n",
    "        x[1]^2 + x[2]^2 + x[3]^2 - 1,\n",
    "        x[1] * exp(x[2]) - x[3],\n",
    "        x[2] * cos(x[3]) + x[1] * x[3] - 0.5\n",
    "    ]\n",
    "end\n",
    "\n",
    "function F10(x::Vector)\n",
    "    return [\n",
    "        x[1]^2 + x[2]^2 + x[3]^2 - 1,                    # Sphere constraint\n",
    "        x[1] * exp(x[2]) - x[3] + sin(x[4]),             # Exponential + trig interaction\n",
    "        x[2] * cos(x[3]) + x[1] * x[3] - 0.5,            # Trigonometric + polynomial\n",
    "        x[4]^2 + x[5]^2 - x[6],                          # Quadratic constraint\n",
    "        x[5] * exp(x[6]) - x[7]^2,                       # Exponential and quadratic\n",
    "        x[6] * cos(x[7]) + x[5] * x[8] - 1,              # Trigonometric + interaction\n",
    "        x[8]^2 + x[9]^2 + x[10]^2 - 2,                   # Sphere-like constraint\n",
    "        x[7] * exp(x[8]) - x[9] + sin(x[10]),            # Another exp + trig interaction\n",
    "        x[9] * cos(x[10]) + x[8] * x[10] - 0.3,          # Trigonometric + polynomial\n",
    "        x[1] + x[2] + x[3] + x[4] + x[5] - 2             # Linear constraint across variables\n",
    "    ]\n",
    "end\n",
    "\n",
    "\n",
    "# Solve using finite differences\n",
    "@time solution_fd, iter_fd, status_fd = Newton_finite_diff(F10, x0)\n",
    "println(\"Finite Differences: Solution = $solution_fd, Iterations = $iter_fd\")"
   ]
  },
  {
   "cell_type": "code",
   "execution_count": 12,
   "metadata": {},
   "outputs": [
    {
     "ename": "ArgumentError",
     "evalue": "ArgumentError: matrix contains Infs or NaNs",
     "output_type": "error",
     "traceback": [
      "ArgumentError: matrix contains Infs or NaNs\n",
      "\n",
      "Stacktrace:\n",
      "  [1] chkfinite\n",
      "    @ /snap/julia/136/share/julia/stdlib/v1.11/LinearAlgebra/src/lapack.jl:105 [inlined]\n",
      "  [2] getrf!(A::Matrix{Float64}, ipiv::Vector{Int64}; check::Bool)\n",
      "    @ LinearAlgebra.LAPACK /snap/julia/136/share/julia/stdlib/v1.11/LinearAlgebra/src/lapack.jl:582\n",
      "  [3] getrf!\n",
      "    @ /snap/julia/136/share/julia/stdlib/v1.11/LinearAlgebra/src/lapack.jl:580 [inlined]\n",
      "  [4] getrf!\n",
      "    @ /snap/julia/136/share/julia/stdlib/v1.11/LinearAlgebra/src/lapack.jl:787 [inlined]\n",
      "  [5] #lu!#182\n",
      "    @ /snap/julia/136/share/julia/stdlib/v1.11/LinearAlgebra/src/lu.jl:91 [inlined]\n",
      "  [6] lu!\n",
      "    @ /snap/julia/136/share/julia/stdlib/v1.11/LinearAlgebra/src/lu.jl:90 [inlined]\n",
      "  [7] lu!\n",
      "    @ /snap/julia/136/share/julia/stdlib/v1.11/LinearAlgebra/src/lu.jl:89 [inlined]\n",
      "  [8] _lu\n",
      "    @ /snap/julia/136/share/julia/stdlib/v1.11/LinearAlgebra/src/lu.jl:347 [inlined]\n",
      "  [9] lu(::Matrix{Float64}; kwargs::@Kwargs{})\n",
      "    @ LinearAlgebra /snap/julia/136/share/julia/stdlib/v1.11/LinearAlgebra/src/lu.jl:341\n",
      " [10] lu\n",
      "    @ /snap/julia/136/share/julia/stdlib/v1.11/LinearAlgebra/src/lu.jl:341 [inlined]\n",
      " [11] \\(A::Matrix{Float64}, B::Vector{Float64})\n",
      "    @ LinearAlgebra /snap/julia/136/share/julia/stdlib/v1.11/LinearAlgebra/src/generic.jl:1132\n",
      " [12] Newton_autodiff(f::typeof(F10), x::Vector{Float64}; tol::Float64, max_iter::Int64)\n",
      "    @ Main ~/Documents/kylindros/jl_notebook_cell_df34fa98e69747e1a8f8a730347b8e2f_W1sdnNjb2RlLXJlbW90ZQ==.jl:37\n",
      " [13] Newton_autodiff\n",
      "    @ ~/Documents/kylindros/jl_notebook_cell_df34fa98e69747e1a8f8a730347b8e2f_W1sdnNjb2RlLXJlbW90ZQ==.jl:34 [inlined]\n",
      " [14] macro expansion\n",
      "    @ ./timing.jl:581 [inlined]\n",
      " [15] top-level scope\n",
      "    @ ~/Documents/kylindros/jl_notebook_cell_df34fa98e69747e1a8f8a730347b8e2f_W3sdnNjb2RlLXJlbW90ZQ==.jl:2"
     ]
    }
   ],
   "source": [
    "# Solve using automatic differentiation\n",
    "@time solution_ad, iter_ad, status_ad = Newton_autodiff(F10, x0)\n",
    "println(\"Automatic Differentiation: Solution = $solution_ad, Iterations = $iter_ad\")"
   ]
  },
  {
   "cell_type": "code",
   "execution_count": 6,
   "metadata": {},
   "outputs": [
    {
     "name": "stdout",
     "output_type": "stream",
     "text": [
      "Computed Jacobian: [0.565159103992485 4.0 0.0; 0.11389387274953341 -0.13986588181652246 -1.0; 2.0 1.0 3.563002513397487]\n"
     ]
    }
   ],
   "source": [
    "using ForwardDiff\n",
    "using SpecialFunctions  # Import SpecialFunctions for Bessel functions\n",
    "\n",
    "# Define your nonlinear system using Bessel functions\n",
    "function F(x::Vector)\n",
    "    return [\n",
    "        besseli(0, x[1]) + x[2]^2 - 1,   # Bessel function J_0(x1)\n",
    "        x[1] * besselk(0, x[2]) - x[3],  # Bessel function Y_1(x2)\n",
    "        besseli(1, x[3]) + x[1] * x[2]   # Bessel function J_1(x3)\n",
    "    ]\n",
    "end\n",
    "\n",
    "# Compute the Jacobian using ForwardDiff\n",
    "function autodiff_jacobian(f, x::Vector{Float64})\n",
    "    return ForwardDiff.jacobian(f, x)\n",
    "end\n",
    "\n",
    "# Test with an initial guess\n",
    "x0 = [1.0, 2.0, 3.0]\n",
    "J = autodiff_jacobian(F, x0)\n",
    "\n",
    "println(\"Computed Jacobian: \", J)\n"
   ]
  },
  {
   "cell_type": "code",
   "execution_count": 8,
   "metadata": {},
   "outputs": [
    {
     "data": {
      "text/plain": [
       "Vector{Float64}\u001b[90m (alias for \u001b[39m\u001b[90mArray{Float64, 1}\u001b[39m\u001b[90m)\u001b[39m"
      ]
     },
     "metadata": {},
     "output_type": "display_data"
    }
   ],
   "source": [
    "# check return type of F\n",
    "typeof(F(x0))"
   ]
  },
  {
   "cell_type": "code",
   "execution_count": null,
   "metadata": {},
   "outputs": [],
   "source": []
  }
 ],
 "metadata": {
  "kernelspec": {
   "display_name": "Julia 1.11.4",
   "language": "julia",
   "name": "julia-1.11"
  },
  "language_info": {
   "file_extension": ".jl",
   "mimetype": "application/julia",
   "name": "julia",
   "version": "1.11.4"
  }
 },
 "nbformat": 4,
 "nbformat_minor": 2
}
