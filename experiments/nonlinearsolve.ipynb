{
 "cells": [
  {
   "cell_type": "code",
   "execution_count": 1,
   "metadata": {},
   "outputs": [],
   "source": [
    "using Plots\n",
    "using NonlinearSolve"
   ]
  },
  {
   "cell_type": "code",
   "execution_count": 2,
   "metadata": {},
   "outputs": [
    {
     "data": {
      "text/plain": [
       "equations (generic function with 1 method)"
      ]
     },
     "metadata": {},
     "output_type": "display_data"
    }
   ],
   "source": [
    "# define function for Lorenz system\n",
    "function equations(unknowns, constants)\n",
    "    ux = unknowns[1]\n",
    "    uy = unknowns[2]\n",
    "    uz = unknowns[3]\n",
    "\n",
    "    σ, ρ, β = constants\n",
    "\n",
    "\n",
    "    return [σ * (uy - ux), ux * (ρ - uz) - uy, ux * uy - β * uz]\n",
    "end\n"
   ]
  },
  {
   "cell_type": "code",
   "execution_count": 3,
   "metadata": {},
   "outputs": [
    {
     "data": {
      "text/plain": [
       "retcode: Success\n",
       "u: 3-element Vector{Float64}:\n",
       " -3.100555765443792e-16\n",
       " -3.100555765443792e-16\n",
       " -4.057746803326392e-16"
      ]
     },
     "metadata": {},
     "output_type": "display_data"
    }
   ],
   "source": [
    "# solve the system using NonlinearSolve\n",
    "\n",
    "# set the constants\n",
    "constants = (σ = 10.0, ρ = 28.0, β = 8.0 / 3.0)\n",
    "\n",
    "# define the NonlinearProblem\n",
    "prob = NonlinearProblem(equations, [1.0, 1.0, 1.0], constants)\n",
    "\n",
    "# solve the problem\n",
    "sol = solve(prob, NewtonRaphson())"
   ]
  },
  {
   "cell_type": "code",
   "execution_count": 9,
   "metadata": {},
   "outputs": [
    {
     "data": {
      "text/plain": [
       "Enum type ReturnCode.T <: Enum{Int32} with 20 instances:\n",
       " ReturnCode.Default                   = 0\n",
       " ReturnCode.Success                   = 1\n",
       " ReturnCode.Terminated                = 2\n",
       " ReturnCode.DtNaN                     = 3\n",
       " ReturnCode.MaxIters                  = 4\n",
       " ReturnCode.MaxNumSub                 = 5\n",
       " ReturnCode.DtLessThanMin             = 6\n",
       " ReturnCode.Unstable                  = 7\n",
       " ReturnCode.InitialFailure            = 8\n",
       " ReturnCode.ConvergenceFailure        = 9\n",
       " ReturnCode.Failure                   = 10\n",
       " ReturnCode.ExactSolutionLeft         = 11\n",
       " ReturnCode.ExactSolutionRight        = 12\n",
       " ReturnCode.FloatingPointLimit        = 13\n",
       " ReturnCode.Infeasible                = 14\n",
       " ReturnCode.MaxTime                   = 15\n",
       " ReturnCode.InternalLineSearchFailed  = 16\n",
       " ReturnCode.ShrinkThresholdExceeded   = 17\n",
       " ReturnCode.Stalled                   = 18\n",
       " ReturnCode.InternalLinearSolveFailed = 19"
      ]
     },
     "metadata": {},
     "output_type": "display_data"
    }
   ],
   "source": [
    "typeof(sol.retcode)"
   ]
  },
  {
   "cell_type": "code",
   "execution_count": null,
   "metadata": {},
   "outputs": [],
   "source": []
  }
 ],
 "metadata": {
  "kernelspec": {
   "display_name": "Julia 1.11.4",
   "language": "julia",
   "name": "julia-1.11"
  },
  "language_info": {
   "file_extension": ".jl",
   "mimetype": "application/julia",
   "name": "julia",
   "version": "1.11.4"
  }
 },
 "nbformat": 4,
 "nbformat_minor": 2
}
