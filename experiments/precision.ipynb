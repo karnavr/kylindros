{
 "cells": [
  {
   "cell_type": "code",
   "execution_count": null,
   "metadata": {},
   "outputs": [
    {
     "ename": "SciMLBase.CommonKwargError",
     "evalue": "Unrecognized keyword arguments found.\nThe only allowed keyword arguments to `solve` are:\n(:dense, :saveat, :save_idxs, :save_discretes, :tstops, :tspan, :d_discontinuities, :save_everystep, :save_on, :save_start, :save_end, :initialize_save, :adaptive, :abstol, :reltol, :dt, :dtmax, :dtmin, :force_dtmin, :internalnorm, :controller, :gamma, :beta1, :beta2, :qmax, :qmin, :qsteady_min, :qsteady_max, :qoldinit, :failfactor, :calck, :alias_u0, :maxiters, :maxtime, :callback, :isoutofdomain, :unstable_check, :verbose, :merge_callbacks, :progress, :progress_steps, :progress_name, :progress_message, :progress_id, :timeseries_errors, :dense_errors, :weak_timeseries_errors, :weak_dense_errors, :wrap, :calculate_error, :initializealg, :alg, :save_noise, :delta, :seed, :alg_hints, :kwargshandle, :trajectories, :batch_size, :sensealg, :advance_to_tstop, :stop_at_next_tstop, :u0, :p, :default_set, :second_time, :prob_choice, :alias_jump, :alias_noise, :batch, :nlsolve_kwargs, :odesolve_kwargs, :linsolve_kwargs, :ensemblealg, :show_trace, :trace_level, :store_trace, :termination_condition, :alias, :fit_parameters)\n\nSee <https://docs.sciml.ai/DiffEqDocs/stable/basics/common_solver_opts> for more details.\n\nUnrecognized keyword arguments: [:linsolve]",
     "output_type": "error",
     "traceback": [
      "Unrecognized keyword arguments found.\n",
      "The only allowed keyword arguments to `solve` are:\n",
      "(:dense, :saveat, :save_idxs, :save_discretes, :tstops, :tspan, :d_discontinuities, :save_everystep, :save_on, :save_start, :save_end, :initialize_save, :adaptive, :abstol, :reltol, :dt, :dtmax, :dtmin, :force_dtmin, :internalnorm, :controller, :gamma, :beta1, :beta2, :qmax, :qmin, :qsteady_min, :qsteady_max, :qoldinit, :failfactor, :calck, :alias_u0, :maxiters, :maxtime, :callback, :isoutofdomain, :unstable_check, :verbose, :merge_callbacks, :progress, :progress_steps, :progress_name, :progress_message, :progress_id, :timeseries_errors, :dense_errors, :weak_timeseries_errors, :weak_dense_errors, :wrap, :calculate_error, :initializealg, :alg, :save_noise, :delta, :seed, :alg_hints, :kwargshandle, :trajectories, :batch_size, :sensealg, :advance_to_tstop, :stop_at_next_tstop, :u0, :p, :default_set, :second_time, :prob_choice, :alias_jump, :alias_noise, :batch, :nlsolve_kwargs, :odesolve_kwargs, :linsolve_kwargs, :ensemblealg, :show_trace, :trace_level, :store_trace, :termination_condition, :alias, :fit_parameters)\n",
      "\n",
      "See <https://docs.sciml.ai/DiffEqDocs/stable/basics/common_solver_opts> for more details.\n",
      "\n",
      "Unrecognized keyword arguments: [:linsolve]\n",
      "\n",
      "Stacktrace:\n",
      " [1] #checkkwargs#755\n",
      "   @ ~/.julia/packages/SciMLBase/ISrX6/src/solve.jl:316 [inlined]\n",
      " [2] checkkwargs\n",
      "   @ ~/.julia/packages/SciMLBase/ISrX6/src/solve.jl:313 [inlined]\n",
      " [3] solve_call(_prob::NonlinearProblem{Vector{ArbFloat}, true, SciMLBase.NullParameters, NonlinearFunction{true, SciMLBase.FullSpecialize, typeof(f!), LinearAlgebra.UniformScaling{Bool}, Nothing, Nothing, Nothing, Nothing, Nothing, Nothing, Nothing, Nothing, Nothing, Nothing, typeof(SciMLBase.DEFAULT_OBSERVED_NO_TIME), Nothing, Nothing, Nothing, Nothing}, @Kwargs{}, SciMLBase.StandardNonlinearProblem}, args::GeneralizedFirstOrderAlgorithm{Missing, Missing, NewtonDescent{Nothing}, AutoFiniteDiff{Val{:forward}, Val{:forward}, Val{:hcentral}, Nothing, Nothing, Bool}, Nothing, Nothing, Val{false}}; merge_callbacks::Bool, kwargshandle::Nothing, kwargs::@Kwargs{alias_u0::Bool, linsolve::KrylovJL{typeof(Krylov.gmres!), Int64, Nothing, Tuple{}, @Kwargs{}}, abstol::ArbFloat{128}, reltol::ArbFloat{128}})\n",
      "   @ DiffEqBase ~/.julia/packages/DiffEqBase/dqv41/src/solve.jl:103\n",
      " [4] solve_up(prob::NonlinearProblem{Vector{ArbFloat}, true, SciMLBase.NullParameters, NonlinearFunction{true, SciMLBase.FullSpecialize, typeof(f!), LinearAlgebra.UniformScaling{Bool}, Nothing, Nothing, Nothing, Nothing, Nothing, Nothing, Nothing, Nothing, Nothing, Nothing, typeof(SciMLBase.DEFAULT_OBSERVED_NO_TIME), Nothing, Nothing, Nothing, Nothing}, @Kwargs{}, SciMLBase.StandardNonlinearProblem}, sensealg::Nothing, u0::Vector{ArbFloat}, p::SciMLBase.NullParameters, args::GeneralizedFirstOrderAlgorithm{Missing, Missing, NewtonDescent{Nothing}, AutoFiniteDiff{Val{:forward}, Val{:forward}, Val{:hcentral}, Nothing, Nothing, Bool}, Nothing, Nothing, Val{false}}; originator::SciMLBase.ChainRulesOriginator, kwargs::@Kwargs{alias_u0::Bool, linsolve::KrylovJL{typeof(Krylov.gmres!), Int64, Nothing, Tuple{}, @Kwargs{}}, abstol::ArbFloat{128}, reltol::ArbFloat{128}})\n",
      "   @ DiffEqBase ~/.julia/packages/DiffEqBase/dqv41/src/solve.jl:667\n",
      " [5] solve(prob::NonlinearProblem{Vector{ArbFloat}, true, SciMLBase.NullParameters, NonlinearFunction{true, SciMLBase.FullSpecialize, typeof(f!), LinearAlgebra.UniformScaling{Bool}, Nothing, Nothing, Nothing, Nothing, Nothing, Nothing, Nothing, Nothing, Nothing, Nothing, typeof(SciMLBase.DEFAULT_OBSERVED_NO_TIME), Nothing, Nothing, Nothing, Nothing}, @Kwargs{}, SciMLBase.StandardNonlinearProblem}, args::GeneralizedFirstOrderAlgorithm{Missing, Missing, NewtonDescent{Nothing}, AutoFiniteDiff{Val{:forward}, Val{:forward}, Val{:hcentral}, Nothing, Nothing, Bool}, Nothing, Nothing, Val{false}}; sensealg::Nothing, u0::Nothing, p::Nothing, wrap::Val{true}, kwargs::@Kwargs{linsolve::KrylovJL{typeof(Krylov.gmres!), Int64, Nothing, Tuple{}, @Kwargs{}}, abstol::ArbFloat{128}, reltol::ArbFloat{128}})\n",
      "   @ DiffEqBase ~/.julia/packages/DiffEqBase/dqv41/src/solve.jl:640\n",
      " [6] top-level scope\n",
      "   @ ~/Documents/kylindros/experiments/jl_notebook_cell_df34fa98e69747e1a8f8a730347b8e2f_W0sdnNjb2RlLXJlbW90ZQ==.jl:12"
     ]
    }
   ],
   "source": [
    "# using NonlinearSolve, ArbNumerics, LinearSolve\n",
    "# ArbNumerics.setprecision(256)\n",
    "\n",
    "# function f!(F, x, p)\n",
    "#     F[1] = x[1]^2 + x[2]^2 - ArbFloat(1)\n",
    "#     F[2] = x[1] - x[2]\n",
    "# end\n",
    "\n",
    "# x0 = ArbFloat[ArbFloat(0.5), ArbFloat(0.5)]\n",
    "# prob = NonlinearProblem(f!, x0)\n",
    "\n",
    "# sol = solve(prob, NewtonRaphson(; autodiff = AutoFiniteDiff()),\n",
    "#             linsolve = KrylovJL_GMRES(),\n",
    "#             abstol = ArbFloat(1e-50), reltol = ArbFloat(1e-50))"
   ]
  },
  {
   "cell_type": "markdown",
   "metadata": {},
   "source": [
    "This notebook is a playground for understanding how to transform my code into arbitrary precision. We will use the ArbNumerics.jl package, along with Julia's native parametric types in order to achieve this. "
   ]
  },
  {
   "cell_type": "markdown",
   "metadata": {},
   "source": [
    "# Imports"
   ]
  },
  {
   "cell_type": "code",
   "execution_count": 1,
   "metadata": {},
   "outputs": [],
   "source": [
    "using ArbNumerics\n",
    "using Plots\n",
    "using LinearAlgebra\n",
    "using SpecialFunctions"
   ]
  },
  {
   "cell_type": "markdown",
   "metadata": {},
   "source": [
    "# **Basics of using ArbNumerics**"
   ]
  },
  {
   "cell_type": "markdown",
   "metadata": {},
   "source": [
    "## The `ArbFloat` and `ArbReal` types"
   ]
  },
  {
   "cell_type": "code",
   "execution_count": 18,
   "metadata": {},
   "outputs": [],
   "source": [
    "setprecision(ArbFloat, 113); setextrabits(24);"
   ]
  },
  {
   "cell_type": "code",
   "execution_count": 30,
   "metadata": {},
   "outputs": [
    {
     "name": "stdout",
     "output_type": "stream",
     "text": [
      "4.679853735636909286562544242024335307975e-45\n",
      "ArbReal{137}\n"
     ]
    }
   ],
   "source": [
    "# create an ArbFloat and evaluate a Bessel function\n",
    "x = ArbReal(\"100.0\")\n",
    "nu = ArbReal(\"1.0\")\n",
    "y = besselk(nu, x)\n",
    "\n",
    "println(y)\n",
    "println(typeof(y))"
   ]
  },
  {
   "cell_type": "markdown",
   "metadata": {},
   "source": [
    "## Plotting"
   ]
  },
  {
   "cell_type": "markdown",
   "metadata": {},
   "source": [
    "# **Making sure Bessels and `solve()` work in arbitrary precision**"
   ]
  },
  {
   "cell_type": "markdown",
   "metadata": {},
   "source": [
    "# **Using parametric types to easily switch between Float64 and ArbFloat**"
   ]
  },
  {
   "cell_type": "code",
   "execution_count": 48,
   "metadata": {},
   "outputs": [],
   "source": [
    "setprecision(T, 52); setextrabits(0);"
   ]
  },
  {
   "cell_type": "code",
   "execution_count": null,
   "metadata": {},
   "outputs": [
    {
     "name": "stdout",
     "output_type": "stream",
     "text": [
      "x = 10.0: besselk = 2670.988303701255\n",
      "x = 50.0: besselk = 2.903078590103557e20\n",
      "x = 100.0: besselk = 1.0683693903381627e42\n",
      "x = 500.0: besselk = 2.5023034121761e215\n",
      "x = 1000.0: ERROR - SpecialFunctions.AmosException(2)\n"
     ]
    },
    {
     "ename": "ErrorException",
     "evalue": "type AmosException has no field msg",
     "output_type": "error",
     "traceback": [
      "type AmosException has no field msg\n",
      "\n",
      "Stacktrace:\n",
      " [1] getproperty(x::SpecialFunctions.AmosException, f::Symbol)\n",
      "   @ Base ./Base.jl:49\n",
      " [2] top-level scope\n",
      "   @ ~/Documents/kylindros/experiments/jl_notebook_cell_df34fa98e69747e1a8f8a730347b8e2f_X23sdnNjb2RlLXJlbW90ZQ==.jl:12"
     ]
    }
   ],
   "source": [
    "# test besselk overflow limits\n",
    "T = Float64\n",
    "nu = T(1.0)\n",
    "for x_val in [10.0, 50.0, 100.0, 500.0, 1000.0, 5000.0, 10000.0]\n",
    "    x = T(x_val)\n",
    "    try\n",
    "        y = besseli(nu, x)\n",
    "        println(\"x = $x_val: besselk = $y\")\n",
    "    catch e\n",
    "        println(\"x = $x_val: ERROR - $e\")\n",
    "        break\n",
    "    end\n",
    "end\n"
   ]
  },
  {
   "cell_type": "code",
   "execution_count": 50,
   "metadata": {},
   "outputs": [
    {
     "name": "stdout",
     "output_type": "stream",
     "text": [
      "x = 10.0: besselk = 2670.9883037013\n",
      "x = 50.0: besselk = 2.9030785901036e+20\n",
      "x = 100.0: besselk = 1.06836939033816e+42\n",
      "x = 500.0: besselk = 2.5023034121761e+215\n",
      "x = 1000.0: besselk = 2.4844429420059e+432\n",
      "x = 5000.0: besselk = 1.67417944138048e+2169\n",
      "x = 10000.0: besselk = 3.5132803889537e+4340\n"
     ]
    }
   ],
   "source": [
    "# test besselk overflow limits\n",
    "T = ArbReal\n",
    "nu = T(\"1.0\")\n",
    "for x_val in [10.0, 50.0, 100.0, 500.0, 1000.0, 5000.0, 10000.0]\n",
    "    x = T(string(x_val))\n",
    "    try\n",
    "        y = besseli(nu, x)\n",
    "        println(\"x = $x_val: besselk = $y\")\n",
    "    catch e\n",
    "        println(\"x = $x_val: ERROR - $e\")\n",
    "        break\n",
    "    end\n",
    "end\n"
   ]
  },
  {
   "cell_type": "code",
   "execution_count": null,
   "metadata": {},
   "outputs": [],
   "source": []
  }
 ],
 "metadata": {
  "kernelspec": {
   "display_name": "Julia 1.11.7",
   "language": "julia",
   "name": "julia-1.11"
  },
  "language_info": {
   "file_extension": ".jl",
   "mimetype": "application/julia",
   "name": "julia",
   "version": "1.11.7"
  }
 },
 "nbformat": 4,
 "nbformat_minor": 2
}
