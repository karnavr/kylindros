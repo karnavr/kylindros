{
 "cells": [
  {
   "cell_type": "code",
   "execution_count": null,
   "id": "8bd027aa",
   "metadata": {},
   "outputs": [],
   "source": [
    "using Plots\n",
    "using SpecialFunctions"
   ]
  },
  {
   "cell_type": "code",
   "execution_count": 2,
   "id": "1f777153",
   "metadata": {},
   "outputs": [
    {
     "name": "stdout",
     "output_type": "stream",
     "text": [
      "β₀ = 5.538857090848174\n"
     ]
    }
   ],
   "source": [
    "# Compute β₀ = [K₁(kb)I₁(k) - I₁(kb)K₁(k)]\n",
    "k = 1\n",
    "b = 0.1\n",
    "\n",
    "# Modified Bessel functions\n",
    "# I₁: besseli(1, x) - first kind, order 1\n",
    "# K₁: besselk(1, x) - second kind, order 1\n",
    "\n",
    "β₀ = besselk(1, k*b) * besseli(1, k) - besseli(1, k*b) * besselk(1, k)\n",
    "\n",
    "println(\"β₀ = \", β₀)\n"
   ]
  },
  {
   "cell_type": "code",
   "execution_count": null,
   "metadata": {},
   "outputs": [
    {
     "name": "stdout",
     "output_type": "stream",
     "text": [
      "β₁ = 6.957837097782702\n"
     ]
    }
   ],
   "source": [
    "# Compute β₁ = K₁(kb)I₀(k) + I₁(kb)K₀(k) - (1/k)β₀\n",
    "\n",
    "β₁ = besselk(1, k*b) * besseli(0, k) + besseli(1, k*b) * besselk(0, k) - (1/k) * β₀\n",
    "\n",
    "println(\"β₁ = \", β₁)"
   ]
  },
  {
   "cell_type": "code",
   "execution_count": null,
   "id": "beec500c",
   "metadata": {},
   "outputs": [],
   "source": []
  }
 ],
 "metadata": {
  "kernelspec": {
   "display_name": "Julia 1.12.0",
   "language": "julia",
   "name": "julia-1.12"
  },
  "language_info": {
   "file_extension": ".jl",
   "mimetype": "application/julia",
   "name": "julia",
   "version": "1.12.0"
  }
 },
 "nbformat": 4,
 "nbformat_minor": 5
}
